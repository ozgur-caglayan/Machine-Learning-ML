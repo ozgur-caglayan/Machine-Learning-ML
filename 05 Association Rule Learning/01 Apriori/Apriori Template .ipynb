{
 "cells": [
  {
   "cell_type": "markdown",
   "metadata": {},
   "source": [
    "# <font color=red>Apriori Template </font> "
   ]
  },
  {
   "cell_type": "markdown",
   "metadata": {},
   "source": [
    "* For another example with the same dataset, you can see below link.\n",
    "\n",
    "https://stackabuse.com/association-rule-mining-via-apriori-algorithm-in-python/"
   ]
  },
  {
   "cell_type": "code",
   "execution_count": 1,
   "metadata": {},
   "outputs": [
    {
     "name": "stdout",
     "output_type": "stream",
     "text": [
      "Rule: chicken -> light cream\n",
      "Support: 0.004532728969470737\n",
      "Confidence: 0.29059829059829057\n",
      "Lift: 4.84395061728395\n",
      "=====================================\n",
      "Rule: mushroom cream sauce -> escalope\n",
      "Support: 0.005732568990801226\n",
      "Confidence: 0.3006993006993007\n",
      "Lift: 3.790832696715049\n",
      "=====================================\n",
      "Rule: escalope -> pasta\n",
      "Support: 0.005865884548726837\n",
      "Confidence: 0.3728813559322034\n",
      "Lift: 4.700811850163794\n",
      "=====================================\n",
      "Rule: fromage blanc -> honey\n",
      "Support: 0.003332888948140248\n",
      "Confidence: 0.2450980392156863\n",
      "Lift: 5.164270764485569\n",
      "=====================================\n",
      "Rule: ground beef -> herb & pepper\n",
      "Support: 0.015997866951073192\n",
      "Confidence: 0.3234501347708895\n",
      "Lift: 3.2919938411349285\n",
      "=====================================\n"
     ]
    }
   ],
   "source": [
    "# Apriori\n",
    "\n",
    "# Importing the libraries\n",
    "import numpy as np\n",
    "import matplotlib.pyplot as plt\n",
    "import pandas as pd\n",
    "%matplotlib inline\n",
    "\n",
    "dataset = pd.read_csv('Market_Basket_Optimisation.csv', header = None)\n",
    "\n",
    "\n",
    "# Data Preprocessing\n",
    "dataset = pd.read_csv('Market_Basket_Optimisation.csv', header = None)\n",
    "transactions = []\n",
    "for i in range(0, 7501):\n",
    "    transactions.append([str(dataset.values[i,j]) for j in range(0, 20)])\n",
    "\n",
    "    \n",
    "# Training Apriori on the dataset\n",
    "from apyori import apriori\n",
    "rules = apriori(transactions, min_support = 0.003, min_confidence = 0.2, min_lift = 3, min_length = 2)\n",
    "\n",
    "\n",
    "# Visualising the results\n",
    "results = list(rules)\n",
    "\n",
    "\n",
    "for item in results[0:5]:\n",
    "\n",
    "    # first index of the inner list\n",
    "    # Contains base item and add item\n",
    "    pair = item[0] \n",
    "    items = [x for x in pair]\n",
    "    print(\"Rule: \" + items[0] + \" -> \" + items[1])\n",
    "\n",
    "    #second index of the inner list\n",
    "    print(\"Support: \" + str(item[1]))\n",
    "\n",
    "    #third index of the list located at 0th\n",
    "    #of the third index of the inner list\n",
    "\n",
    "    print(\"Confidence: \" + str(item[2][0][2]))\n",
    "    print(\"Lift: \" + str(item[2][0][3]))\n",
    "    print(\"=====================================\")"
   ]
  }
 ],
 "metadata": {
  "kernelspec": {
   "display_name": "Python 3",
   "language": "python",
   "name": "python3"
  },
  "language_info": {
   "codemirror_mode": {
    "name": "ipython",
    "version": 3
   },
   "file_extension": ".py",
   "mimetype": "text/x-python",
   "name": "python",
   "nbconvert_exporter": "python",
   "pygments_lexer": "ipython3",
   "version": "3.7.1"
  }
 },
 "nbformat": 4,
 "nbformat_minor": 2
}
